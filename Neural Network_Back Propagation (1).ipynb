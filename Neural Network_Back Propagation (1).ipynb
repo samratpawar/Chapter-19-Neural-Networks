{
 "cells": [
  {
   "cell_type": "code",
   "execution_count": 28,
   "metadata": {},
   "outputs": [],
   "source": [
    "from keras.models import Sequential\n",
    "from keras.layers import Dense\n",
    "import numpy as np\n",
    "import pandas as pd\n",
    "import matplotlib.pyplot as plt\n",
    "%matplotlib inline\n"
   ]
  },
  {
   "cell_type": "code",
   "execution_count": 9,
   "metadata": {},
   "outputs": [],
   "source": [
    "numpy.random.seed(10)"
   ]
  },
  {
   "cell_type": "code",
   "execution_count": 10,
   "metadata": {},
   "outputs": [],
   "source": [
    "dataset = numpy.loadtxt(\"pima-indians-diabetes.csv\", delimiter=\",\")"
   ]
  },
  {
   "attachments": {
    "image.png": {
     "image/png": "[encoded data removed]"
    }
   },
   "cell_type": "markdown",
   "metadata": {},
   "source": [
    "![image.png](attachment:image.png)"
   ]
  },
  {
   "cell_type": "code",
   "execution_count": 11,
   "metadata": {},
   "outputs": [],
   "source": [
    "Z = dataset[:,0:8]\n",
    "Q = dataset[:,8]"
   ]
  },
  {
   "cell_type": "code",
   "execution_count": 12,
   "metadata": {},
   "outputs": [],
   "source": [
    "model = Sequential()\n",
    "model.add(Dense(12, input_dim=8, activation='relu'))\n",
    "model.add(Dense(8, activation='relu'))\n",
    "model.add(Dense(1, activation='sigmoid'))"
   ]
  },
  {
   "cell_type": "code",
   "execution_count": 13,
   "metadata": {},
   "outputs": [],
   "source": [
    "model.compile(loss='binary_crossentropy', optimizer='adam', metrics=['accuracy'])\n",
    "\n"
   ]
  },
  {
   "cell_type": "code",
   "execution_count": 14,
   "metadata": {},
   "outputs": [
    {
     "name": "stdout",
     "output_type": "stream",
     "text": [
      "Epoch 1/150\n",
      "77/77 [==============================] - 4s 3ms/step - loss: 19.8054 - accuracy: 0.6198\n",
      "Epoch 2/150\n",
      "77/77 [==============================] - 0s 3ms/step - loss: 4.3213 - accuracy: 0.4766\n",
      "Epoch 3/150\n",
      "77/77 [==============================] - 0s 3ms/step - loss: 2.2183 - accuracy: 0.5260\n",
      "Epoch 4/150\n",
      "77/77 [==============================] - 0s 3ms/step - loss: 1.4043 - accuracy: 0.5833\n",
      "Epoch 5/150\n",
      "77/77 [==============================] - 0s 3ms/step - loss: 1.0027 - accuracy: 0.5951\n",
      "Epoch 6/150\n",
      "77/77 [==============================] - 0s 3ms/step - loss: 0.8377 - accuracy: 0.5990\n",
      "Epoch 7/150\n",
      "77/77 [==============================] - 0s 3ms/step - loss: 0.7531 - accuracy: 0.6107\n",
      "Epoch 8/150\n",
      "77/77 [==============================] - 0s 3ms/step - loss: 0.7277 - accuracy: 0.6302\n",
      "Epoch 9/150\n",
      "77/77 [==============================] - 0s 3ms/step - loss: 0.7043 - accuracy: 0.6484\n",
      "Epoch 10/150\n",
      "77/77 [==============================] - 0s 3ms/step - loss: 0.7248 - accuracy: 0.6055\n",
      "Epoch 11/150\n",
      "77/77 [==============================] - 0s 3ms/step - loss: 0.6649 - accuracy: 0.6641\n",
      "Epoch 12/150\n",
      "77/77 [==============================] - 0s 3ms/step - loss: 0.6539 - accuracy: 0.6576\n",
      "Epoch 13/150\n",
      "77/77 [==============================] - 0s 3ms/step - loss: 0.6367 - accuracy: 0.6810\n",
      "Epoch 14/150\n",
      "77/77 [==============================] - 0s 3ms/step - loss: 0.6348 - accuracy: 0.6654\n",
      "Epoch 15/150\n",
      "77/77 [==============================] - 0s 3ms/step - loss: 0.6247 - accuracy: 0.6953\n",
      "Epoch 16/150\n",
      "77/77 [==============================] - 0s 2ms/step - loss: 0.6454 - accuracy: 0.6693\n",
      "Epoch 17/150\n",
      "77/77 [==============================] - 0s 3ms/step - loss: 0.6177 - accuracy: 0.7044\n",
      "Epoch 18/150\n",
      "77/77 [==============================] - 0s 2ms/step - loss: 0.6277 - accuracy: 0.6745\n",
      "Epoch 19/150\n",
      "77/77 [==============================] - 0s 2ms/step - loss: 0.6396 - accuracy: 0.6823\n",
      "Epoch 20/150\n",
      "77/77 [==============================] - 0s 2ms/step - loss: 0.6067 - accuracy: 0.6966\n",
      "Epoch 21/150\n",
      "77/77 [==============================] - 0s 2ms/step - loss: 0.6184 - accuracy: 0.6771\n",
      "Epoch 22/150\n",
      "77/77 [==============================] - 0s 2ms/step - loss: 0.6113 - accuracy: 0.6927\n",
      "Epoch 23/150\n",
      "77/77 [==============================] - 0s 3ms/step - loss: 0.6004 - accuracy: 0.7031\n",
      "Epoch 24/150\n",
      "77/77 [==============================] - 0s 2ms/step - loss: 0.6496 - accuracy: 0.6823\n",
      "Epoch 25/150\n",
      "77/77 [==============================] - 0s 2ms/step - loss: 0.6364 - accuracy: 0.6862\n",
      "Epoch 26/150\n",
      "77/77 [==============================] - 0s 2ms/step - loss: 0.6355 - accuracy: 0.6771\n",
      "Epoch 27/150\n",
      "77/77 [==============================] - 0s 2ms/step - loss: 0.6126 - accuracy: 0.6927\n",
      "Epoch 28/150\n",
      "77/77 [==============================] - 0s 2ms/step - loss: 0.5993 - accuracy: 0.7227\n",
      "Epoch 29/150\n",
      "77/77 [==============================] - 0s 3ms/step - loss: 0.6022 - accuracy: 0.6966\n",
      "Epoch 30/150\n",
      "77/77 [==============================] - 0s 2ms/step - loss: 0.6015 - accuracy: 0.7122\n",
      "Epoch 31/150\n",
      "77/77 [==============================] - 0s 2ms/step - loss: 0.5907 - accuracy: 0.7096\n",
      "Epoch 32/150\n",
      "77/77 [==============================] - 0s 2ms/step - loss: 0.5980 - accuracy: 0.7122\n",
      "Epoch 33/150\n",
      "77/77 [==============================] - 0s 2ms/step - loss: 0.5937 - accuracy: 0.6888\n",
      "Epoch 34/150\n",
      "77/77 [==============================] - 0s 2ms/step - loss: 0.6133 - accuracy: 0.7044\n",
      "Epoch 35/150\n",
      "77/77 [==============================] - 0s 2ms/step - loss: 0.5880 - accuracy: 0.7318\n",
      "Epoch 36/150\n",
      "77/77 [==============================] - 0s 3ms/step - loss: 0.5982 - accuracy: 0.7044\n",
      "Epoch 37/150\n",
      "77/77 [==============================] - 0s 2ms/step - loss: 0.5948 - accuracy: 0.7161\n",
      "Epoch 38/150\n",
      "77/77 [==============================] - 0s 3ms/step - loss: 0.5999 - accuracy: 0.7096\n",
      "Epoch 39/150\n",
      "77/77 [==============================] - 0s 2ms/step - loss: 0.5881 - accuracy: 0.7096\n",
      "Epoch 40/150\n",
      "77/77 [==============================] - 0s 2ms/step - loss: 0.5768 - accuracy: 0.7109\n",
      "Epoch 41/150\n",
      "77/77 [==============================] - 0s 2ms/step - loss: 0.5880 - accuracy: 0.7083\n",
      "Epoch 42/150\n",
      "77/77 [==============================] - 0s 3ms/step - loss: 0.5822 - accuracy: 0.7122\n",
      "Epoch 43/150\n",
      "77/77 [==============================] - 0s 3ms/step - loss: 0.5850 - accuracy: 0.7135\n",
      "Epoch 44/150\n",
      "77/77 [==============================] - 0s 2ms/step - loss: 0.5833 - accuracy: 0.7174\n",
      "Epoch 45/150\n",
      "77/77 [==============================] - 0s 2ms/step - loss: 0.5742 - accuracy: 0.7227\n",
      "Epoch 46/150\n",
      "77/77 [==============================] - 0s 2ms/step - loss: 0.5819 - accuracy: 0.7227\n",
      "Epoch 47/150\n",
      "77/77 [==============================] - 0s 2ms/step - loss: 0.5851 - accuracy: 0.7057\n",
      "Epoch 48/150\n",
      "77/77 [==============================] - 0s 2ms/step - loss: 0.5685 - accuracy: 0.7174\n",
      "Epoch 49/150\n",
      "77/77 [==============================] - 0s 2ms/step - loss: 0.5634 - accuracy: 0.7409\n",
      "Epoch 50/150\n",
      "77/77 [==============================] - 0s 2ms/step - loss: 0.5766 - accuracy: 0.7214\n",
      "Epoch 51/150\n",
      "77/77 [==============================] - 0s 2ms/step - loss: 0.5657 - accuracy: 0.7383\n",
      "Epoch 52/150\n",
      "77/77 [==============================] - 0s 2ms/step - loss: 0.5714 - accuracy: 0.7240\n",
      "Epoch 53/150\n",
      "77/77 [==============================] - 0s 2ms/step - loss: 0.5615 - accuracy: 0.7344\n",
      "Epoch 54/150\n",
      "77/77 [==============================] - 0s 2ms/step - loss: 0.5606 - accuracy: 0.7253\n",
      "Epoch 55/150\n",
      "77/77 [==============================] - 0s 2ms/step - loss: 0.5790 - accuracy: 0.7135\n",
      "Epoch 56/150\n",
      "77/77 [==============================] - 0s 2ms/step - loss: 0.5564 - accuracy: 0.7227\n",
      "Epoch 57/150\n",
      "77/77 [==============================] - 0s 2ms/step - loss: 0.5714 - accuracy: 0.7214\n",
      "Epoch 58/150\n",
      "77/77 [==============================] - 0s 2ms/step - loss: 0.5502 - accuracy: 0.7292\n",
      "Epoch 59/150\n",
      "77/77 [==============================] - 0s 2ms/step - loss: 0.5673 - accuracy: 0.6966\n",
      "Epoch 60/150\n",
      "77/77 [==============================] - 0s 3ms/step - loss: 0.5582 - accuracy: 0.7240\n",
      "Epoch 61/150\n",
      "77/77 [==============================] - 0s 2ms/step - loss: 0.5561 - accuracy: 0.7266\n",
      "Epoch 62/150\n",
      "77/77 [==============================] - 0s 2ms/step - loss: 0.5487 - accuracy: 0.7357\n",
      "Epoch 63/150\n",
      "77/77 [==============================] - 0s 2ms/step - loss: 0.5562 - accuracy: 0.7279\n",
      "Epoch 64/150\n",
      "77/77 [==============================] - 0s 3ms/step - loss: 0.5706 - accuracy: 0.7161\n",
      "Epoch 65/150\n",
      "77/77 [==============================] - 0s 3ms/step - loss: 0.5477 - accuracy: 0.7409\n",
      "Epoch 66/150\n",
      "77/77 [==============================] - 0s 3ms/step - loss: 0.5541 - accuracy: 0.7422\n",
      "Epoch 67/150\n",
      "77/77 [==============================] - 0s 2ms/step - loss: 0.5525 - accuracy: 0.7344\n",
      "Epoch 68/150\n",
      "77/77 [==============================] - 0s 3ms/step - loss: 0.5507 - accuracy: 0.7331\n",
      "Epoch 69/150\n",
      "77/77 [==============================] - 0s 2ms/step - loss: 0.5388 - accuracy: 0.7305\n",
      "Epoch 70/150\n",
      "77/77 [==============================] - 0s 3ms/step - loss: 0.5580 - accuracy: 0.7292\n",
      "Epoch 71/150\n",
      "77/77 [==============================] - 0s 2ms/step - loss: 0.5543 - accuracy: 0.7227\n",
      "Epoch 72/150\n",
      "77/77 [==============================] - 0s 2ms/step - loss: 0.5501 - accuracy: 0.7161\n",
      "Epoch 73/150\n",
      "77/77 [==============================] - 0s 2ms/step - loss: 0.5473 - accuracy: 0.7161\n",
      "Epoch 74/150\n",
      "77/77 [==============================] - 0s 2ms/step - loss: 0.5336 - accuracy: 0.7448\n",
      "Epoch 75/150\n",
      "77/77 [==============================] - 0s 2ms/step - loss: 0.5504 - accuracy: 0.7305\n",
      "Epoch 76/150\n",
      "77/77 [==============================] - 0s 2ms/step - loss: 0.5472 - accuracy: 0.7318\n",
      "Epoch 77/150\n",
      "77/77 [==============================] - 0s 2ms/step - loss: 0.5441 - accuracy: 0.7370\n",
      "Epoch 78/150\n",
      "77/77 [==============================] - 0s 2ms/step - loss: 0.5352 - accuracy: 0.7370\n",
      "Epoch 79/150\n",
      "77/77 [==============================] - 0s 2ms/step - loss: 0.5356 - accuracy: 0.7422\n",
      "Epoch 80/150\n",
      "77/77 [==============================] - 0s 2ms/step - loss: 0.5346 - accuracy: 0.7253\n",
      "Epoch 81/150\n",
      "77/77 [==============================] - 0s 2ms/step - loss: 0.5412 - accuracy: 0.7266\n",
      "Epoch 82/150\n",
      "77/77 [==============================] - 0s 2ms/step - loss: 0.5315 - accuracy: 0.7409\n",
      "Epoch 83/150\n"
     ]
    },
    {
     "name": "stdout",
     "output_type": "stream",
     "text": [
      "77/77 [==============================] - 0s 2ms/step - loss: 0.5475 - accuracy: 0.7344\n",
      "Epoch 84/150\n",
      "77/77 [==============================] - 0s 2ms/step - loss: 0.5379 - accuracy: 0.7409\n",
      "Epoch 85/150\n",
      "77/77 [==============================] - 0s 2ms/step - loss: 0.5347 - accuracy: 0.7357\n",
      "Epoch 86/150\n",
      "77/77 [==============================] - 0s 2ms/step - loss: 0.5490 - accuracy: 0.7305\n",
      "Epoch 87/150\n",
      "77/77 [==============================] - 0s 2ms/step - loss: 0.5430 - accuracy: 0.7305\n",
      "Epoch 88/150\n",
      "77/77 [==============================] - 0s 2ms/step - loss: 0.5357 - accuracy: 0.7214\n",
      "Epoch 89/150\n",
      "77/77 [==============================] - 0s 2ms/step - loss: 0.5312 - accuracy: 0.7318\n",
      "Epoch 90/150\n",
      "77/77 [==============================] - 0s 3ms/step - loss: 0.5396 - accuracy: 0.7305\n",
      "Epoch 91/150\n",
      "77/77 [==============================] - 0s 3ms/step - loss: 0.5331 - accuracy: 0.7396\n",
      "Epoch 92/150\n",
      "77/77 [==============================] - 0s 2ms/step - loss: 0.5254 - accuracy: 0.7487\n",
      "Epoch 93/150\n",
      "77/77 [==============================] - 0s 2ms/step - loss: 0.5319 - accuracy: 0.7357\n",
      "Epoch 94/150\n",
      "77/77 [==============================] - 0s 2ms/step - loss: 0.5318 - accuracy: 0.7305\n",
      "Epoch 95/150\n",
      "77/77 [==============================] - 0s 2ms/step - loss: 0.5309 - accuracy: 0.7448\n",
      "Epoch 96/150\n",
      "77/77 [==============================] - 0s 2ms/step - loss: 0.5404 - accuracy: 0.7435\n",
      "Epoch 97/150\n",
      "77/77 [==============================] - 0s 2ms/step - loss: 0.5293 - accuracy: 0.7305\n",
      "Epoch 98/150\n",
      "77/77 [==============================] - 0s 2ms/step - loss: 0.5358 - accuracy: 0.7370\n",
      "Epoch 99/150\n",
      "77/77 [==============================] - 0s 2ms/step - loss: 0.5302 - accuracy: 0.7409\n",
      "Epoch 100/150\n",
      "77/77 [==============================] - 0s 2ms/step - loss: 0.5206 - accuracy: 0.7487\n",
      "Epoch 101/150\n",
      "77/77 [==============================] - 0s 2ms/step - loss: 0.5259 - accuracy: 0.7370\n",
      "Epoch 102/150\n",
      "77/77 [==============================] - 0s 2ms/step - loss: 0.5156 - accuracy: 0.7396\n",
      "Epoch 103/150\n",
      "77/77 [==============================] - 0s 2ms/step - loss: 0.5298 - accuracy: 0.7383\n",
      "Epoch 104/150\n",
      "77/77 [==============================] - 0s 3ms/step - loss: 0.5288 - accuracy: 0.7409\n",
      "Epoch 105/150\n",
      "77/77 [==============================] - 0s 2ms/step - loss: 0.5223 - accuracy: 0.7422\n",
      "Epoch 106/150\n",
      "77/77 [==============================] - 0s 2ms/step - loss: 0.5253 - accuracy: 0.7370\n",
      "Epoch 107/150\n",
      "77/77 [==============================] - 0s 2ms/step - loss: 0.5269 - accuracy: 0.7383\n",
      "Epoch 108/150\n",
      "77/77 [==============================] - 0s 2ms/step - loss: 0.5140 - accuracy: 0.7578\n",
      "Epoch 109/150\n",
      "77/77 [==============================] - 0s 2ms/step - loss: 0.5093 - accuracy: 0.7474\n",
      "Epoch 110/150\n",
      "77/77 [==============================] - 0s 2ms/step - loss: 0.5153 - accuracy: 0.7539\n",
      "Epoch 111/150\n",
      "77/77 [==============================] - 0s 2ms/step - loss: 0.5239 - accuracy: 0.7539\n",
      "Epoch 112/150\n",
      "77/77 [==============================] - 0s 2ms/step - loss: 0.5076 - accuracy: 0.7539\n",
      "Epoch 113/150\n",
      "77/77 [==============================] - 0s 2ms/step - loss: 0.5276 - accuracy: 0.7500\n",
      "Epoch 114/150\n",
      "77/77 [==============================] - 0s 2ms/step - loss: 0.5188 - accuracy: 0.7409\n",
      "Epoch 115/150\n",
      "77/77 [==============================] - 0s 2ms/step - loss: 0.5107 - accuracy: 0.7643\n",
      "Epoch 116/150\n",
      "77/77 [==============================] - 0s 2ms/step - loss: 0.5212 - accuracy: 0.7435\n",
      "Epoch 117/150\n",
      "77/77 [==============================] - 0s 2ms/step - loss: 0.5106 - accuracy: 0.7448\n",
      "Epoch 118/150\n",
      "77/77 [==============================] - 0s 2ms/step - loss: 0.5070 - accuracy: 0.7487\n",
      "Epoch 119/150\n",
      "77/77 [==============================] - 0s 2ms/step - loss: 0.5081 - accuracy: 0.7656\n",
      "Epoch 120/150\n",
      "77/77 [==============================] - 0s 2ms/step - loss: 0.5099 - accuracy: 0.7552\n",
      "Epoch 121/150\n",
      "77/77 [==============================] - 0s 2ms/step - loss: 0.5213 - accuracy: 0.7656\n",
      "Epoch 122/150\n",
      "77/77 [==============================] - 0s 2ms/step - loss: 0.5173 - accuracy: 0.7409\n",
      "Epoch 123/150\n",
      "77/77 [==============================] - 0s 2ms/step - loss: 0.5218 - accuracy: 0.7487\n",
      "Epoch 124/150\n",
      "77/77 [==============================] - 0s 2ms/step - loss: 0.5088 - accuracy: 0.7474\n",
      "Epoch 125/150\n",
      "77/77 [==============================] - 0s 2ms/step - loss: 0.5241 - accuracy: 0.7422\n",
      "Epoch 126/150\n",
      "77/77 [==============================] - 0s 2ms/step - loss: 0.5051 - accuracy: 0.7552\n",
      "Epoch 127/150\n",
      "77/77 [==============================] - 0s 2ms/step - loss: 0.5152 - accuracy: 0.7461\n",
      "Epoch 128/150\n",
      "77/77 [==============================] - 0s 2ms/step - loss: 0.5076 - accuracy: 0.7526\n",
      "Epoch 129/150\n",
      "77/77 [==============================] - 0s 2ms/step - loss: 0.5257 - accuracy: 0.7552\n",
      "Epoch 130/150\n",
      "77/77 [==============================] - 0s 2ms/step - loss: 0.5054 - accuracy: 0.7500\n",
      "Epoch 131/150\n",
      "77/77 [==============================] - 0s 2ms/step - loss: 0.5109 - accuracy: 0.7565\n",
      "Epoch 132/150\n",
      "77/77 [==============================] - 0s 2ms/step - loss: 0.5105 - accuracy: 0.7539\n",
      "Epoch 133/150\n",
      "77/77 [==============================] - 0s 3ms/step - loss: 0.5095 - accuracy: 0.7409\n",
      "Epoch 134/150\n",
      "77/77 [==============================] - 0s 2ms/step - loss: 0.5096 - accuracy: 0.7565\n",
      "Epoch 135/150\n",
      "77/77 [==============================] - 0s 2ms/step - loss: 0.5279 - accuracy: 0.7474\n",
      "Epoch 136/150\n",
      "77/77 [==============================] - 0s 2ms/step - loss: 0.5077 - accuracy: 0.7669\n",
      "Epoch 137/150\n",
      "77/77 [==============================] - 0s 2ms/step - loss: 0.5006 - accuracy: 0.7591\n",
      "Epoch 138/150\n",
      "77/77 [==============================] - 0s 2ms/step - loss: 0.4995 - accuracy: 0.7526\n",
      "Epoch 139/150\n",
      "77/77 [==============================] - 0s 3ms/step - loss: 0.4969 - accuracy: 0.7565\n",
      "Epoch 140/150\n",
      "77/77 [==============================] - 0s 2ms/step - loss: 0.5075 - accuracy: 0.7435\n",
      "Epoch 141/150\n",
      "77/77 [==============================] - 0s 2ms/step - loss: 0.5068 - accuracy: 0.7396\n",
      "Epoch 142/150\n",
      "77/77 [==============================] - 0s 2ms/step - loss: 0.5022 - accuracy: 0.7591\n",
      "Epoch 143/150\n",
      "77/77 [==============================] - 0s 2ms/step - loss: 0.5035 - accuracy: 0.7591\n",
      "Epoch 144/150\n",
      "77/77 [==============================] - 0s 2ms/step - loss: 0.5056 - accuracy: 0.7448\n",
      "Epoch 145/150\n",
      "77/77 [==============================] - 0s 2ms/step - loss: 0.5216 - accuracy: 0.7435\n",
      "Epoch 146/150\n",
      "77/77 [==============================] - 0s 2ms/step - loss: 0.4942 - accuracy: 0.7682\n",
      "Epoch 147/150\n",
      "77/77 [==============================] - 0s 2ms/step - loss: 0.5130 - accuracy: 0.7565\n",
      "Epoch 148/150\n",
      "77/77 [==============================] - 0s 2ms/step - loss: 0.5117 - accuracy: 0.7539\n",
      "Epoch 149/150\n",
      "77/77 [==============================] - 0s 2ms/step - loss: 0.4967 - accuracy: 0.7643\n",
      "Epoch 150/150\n",
      "77/77 [==============================] - 0s 2ms/step - loss: 0.4938 - accuracy: 0.7695\n"
     ]
    },
    {
     "data": {
      "text/plain": [
       "<keras.callbacks.History at 0x294ab666340>"
      ]
     },
     "execution_count": 14,
     "metadata": {},
     "output_type": "execute_result"
    }
   ],
   "source": [
    "model.fit(Z, Q, epochs=150, batch_size=10)"
   ]
  },
  {
   "cell_type": "code",
   "execution_count": 15,
   "metadata": {},
   "outputs": [],
   "source": [
    "predictions = model.predict(Z)"
   ]
  },
  {
   "cell_type": "code",
   "execution_count": 16,
   "metadata": {},
   "outputs": [
    {
     "name": "stdout",
     "output_type": "stream",
     "text": [
      "[0, 0, 1, 0, 1, 0, 0, 1, 1, 0, 0, 1, 0, 1, 1, 0, 0, 0, 0, 0, 0, 0, 1, 0, 0, 0, 1, 0, 0, 0, 0, 1, 0, 0, 0, 0, 1, 0, 0, 1, 0, 0, 0, 0, 1, 1, 1, 0, 0, 0, 0, 0, 0, 1, 1, 0, 1, 0, 0, 0, 0, 0, 0, 0, 0, 0, 0, 0, 0, 0, 0, 0, 0, 0, 0, 0, 0, 0, 1, 0, 0, 0, 0, 0, 0, 0, 0, 0, 0, 0, 0, 0, 0, 0, 0, 1, 0, 0, 0, 0, 1, 0, 0, 0, 0, 0, 0, 1, 0, 0, 1, 1, 0, 0, 1, 0, 0, 0, 0, 0, 0, 0, 0, 0, 0, 0, 0, 0, 0, 0, 1, 1, 1, 0, 0, 0, 0, 0, 0, 0, 0, 0, 0, 0, 1, 0, 0, 0, 0, 0, 0, 0, 1, 0, 1, 1, 0, 0, 0, 1, 0, 0, 0, 0, 0, 0, 0, 0, 0, 0, 0, 0, 1, 0, 0, 1, 0, 0, 1, 0, 0, 0, 0, 0, 0, 1, 1, 0, 0, 0, 0, 0, 1, 1, 0, 0, 0, 0, 0, 0, 0, 0, 0, 0, 0, 0, 1, 0, 0, 1, 0, 0, 0, 0, 0, 1, 0, 0, 0, 0, 0, 0, 0, 1, 0, 0, 0, 1, 1, 0, 0, 0, 0, 0, 0, 1, 1, 0, 0, 0, 0, 0, 0, 1, 0, 1, 0, 0, 0, 0, 0, 0, 0, 0, 0, 0, 0, 0, 0, 1, 0, 1, 0, 0, 0, 0, 1, 0, 0, 1, 0, 0, 0, 0, 0, 0, 0, 0, 0, 0, 0, 0, 0, 0, 0, 1, 0, 0, 0, 0, 0, 0, 0, 1, 0, 1, 0, 0, 1, 0, 1, 0, 0, 0, 0, 0, 1, 0, 0, 0, 0, 0, 0, 0, 0, 0, 0, 1, 0, 1, 0, 0, 0, 0, 0, 0, 0, 1, 0, 0, 0, 0, 1, 0, 0, 0, 0, 0, 1, 1, 0, 0, 0, 0, 0, 0, 0, 1, 0, 1, 0, 0, 0, 0, 0, 0, 1, 1, 0, 1, 1, 0, 0, 0, 0, 0, 0, 0, 0, 0, 0, 0, 0, 0, 1, 1, 0, 0, 1, 0, 0, 0, 0, 0, 0, 0, 0, 0, 1, 0, 0, 1, 0, 0, 0, 0, 0, 0, 0, 1, 0, 0, 0, 0, 1, 0, 0, 0, 1, 0, 0, 0, 0, 0, 0, 0, 0, 0, 0, 0, 0, 0, 0, 0, 1, 1, 0, 1, 0, 0, 0, 0, 0, 0, 0, 1, 0, 0, 0, 0, 0, 0, 0, 0, 0, 1, 0, 0, 0, 0, 0, 0, 0, 0, 0, 1, 0, 0, 1, 0, 0, 0, 0, 0, 0, 0, 0, 0, 0, 0, 0, 0, 0, 0, 0, 0, 0, 0, 0, 0, 0, 0, 0, 0, 1, 0, 0, 1, 0, 0, 0, 0, 0, 0, 0, 0, 0, 0, 1, 1, 0, 0, 1, 0, 0, 0, 0, 0, 0, 0, 0, 0, 0, 0, 0, 0, 1, 0, 0, 1, 0, 0, 0, 1, 0, 0, 0, 0, 0, 0, 0, 0, 0, 0, 0, 1, 0, 0, 0, 0, 0, 0, 0, 0, 0, 1, 1, 0, 0, 0, 0, 0, 0, 0, 0, 0, 0, 0, 0, 0, 0, 1, 0, 0, 0, 0, 0, 0, 0, 0, 0, 0, 0, 0, 0, 0, 1, 0, 0, 1, 0, 0, 0, 0, 1, 0, 1, 0, 1, 0, 0, 0, 0, 0, 1, 0, 0, 0, 1, 0, 0, 0, 0, 0, 1, 0, 1, 0, 0, 0, 0, 1, 1, 0, 1, 0, 0, 0, 0, 1, 0, 0, 1, 0, 0, 0, 0, 0, 0, 0, 0, 0, 0, 0, 0, 0, 0, 0, 0, 0, 0, 0, 0, 0, 0, 0, 0, 1, 1, 0, 0, 0, 0, 0, 0, 0, 0, 0, 0, 0, 0, 1, 0, 1, 0, 0, 0, 0, 0, 0, 1, 0, 0, 0, 0, 1, 0, 0, 1, 0, 0, 1, 0, 0, 0, 0, 0, 0, 0, 0, 0, 0, 0, 1, 0, 0, 0, 0, 0, 0, 0, 0, 0, 0, 0, 0, 0, 0, 1, 0, 0, 0, 1, 0, 0, 1, 1, 0, 0, 0, 0, 0, 0, 0, 0, 0, 0, 0, 0, 0, 0, 0, 0, 0, 0, 0, 0, 0, 0, 0, 1, 0, 0, 0, 1, 0, 0, 0, 1, 1, 0, 0, 0, 0, 0, 0, 0, 0, 0, 1, 0, 1, 0, 1, 0, 0, 0, 0]\n"
     ]
    }
   ],
   "source": [
    "rounded = [round(x[0]) for x in predictions]\n",
    "print(rounded)"
   ]
  },
  {
   "cell_type": "code",
   "execution_count": 17,
   "metadata": {},
   "outputs": [
    {
     "name": "stdout",
     "output_type": "stream",
     "text": [
      "24/24 [==============================] - 0s 1ms/step - loss: 0.5031 - accuracy: 0.7565\n",
      "\n",
      "accuracy: 75.65%\n"
     ]
    }
   ],
   "source": [
    "scores = model.evaluate(Z, Q)\n",
    "print(\"\\n%s: %.2f%%\" % (model.metrics_names[1], scores[1]*100))"
   ]
  },
  {
   "cell_type": "code",
   "execution_count": 30,
   "metadata": {},
   "outputs": [
    {
     "data": {
      "text/plain": [
       "dict_keys([])"
      ]
     },
     "execution_count": 30,
     "metadata": {},
     "output_type": "execute_result"
    }
   ],
   "source": [
    "# Visualize training history\n",
    "\n",
    "# list all data in history\n",
    "model.history.history.keys()\n"
   ]
  },
  {
   "cell_type": "code",
   "execution_count": null,
   "metadata": {},
   "outputs": [],
   "source": [
    "# summarize history for accuracy\n",
    "plt.plot(history.history['accuracy'])\n",
    "plt.plot(history.history['val_accuracy'])\n",
    "plt.title('model accuracy')\n",
    "plt.ylabel('accuracy')\n",
    "plt.xlabel('epoch')\n",
    "plt.legend(['train', 'test'], loc='upper left')\n",
    "plt.show()\n",
    "# summarize history for loss\n",
    "plt.plot(history.history['loss'])\n",
    "plt.plot(history.history['val_loss'])\n",
    "plt.title('model loss')\n",
    "plt.ylabel('loss')\n",
    "plt.xlabel('epoch')\n",
    "plt.legend(['train', 'test'], loc='upper left')\n",
    "plt.show()\n"
   ]
  },
  {
   "cell_type": "code",
   "execution_count": null,
   "metadata": {},
   "outputs": [],
   "source": []
  }
 ],
 "metadata": {
  "kernelspec": {
   "display_name": "Python 3",
   "language": "python",
   "name": "python3"
  },
  "language_info": {
   "codemirror_mode": {
    "name": "ipython",
    "version": 3
   },
   "file_extension": ".py",
   "mimetype": "text/x-python",
   "name": "python",
   "nbconvert_exporter": "python",
   "pygments_lexer": "ipython3",
   "version": "3.8.8"
  }
 },
 "nbformat": 4,
 "nbformat_minor": 2
}
